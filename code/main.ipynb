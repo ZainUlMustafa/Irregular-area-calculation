{
 "cells": [
  {
   "cell_type": "markdown",
   "metadata": {},
   "source": [
    "## Calculating the union area using image processing\n",
    "This is my take on how to solve this problem.\n",
    "\n",
    "***The answer to [this challenge](https://www.reddit.com/r/dailyprogrammer/comments/23b1pr/4182014_challenge_158_hard_intersecting_rectangles/) is approximately 18 units squared!***\n",
    "\n",
    "### Steps:\n",
    "0. You have to increase the resolution of step 1 till step 3 and downscale back in step 4. 100 is a good scale!\n",
    "1. Create a blank black canvas\n",
    "2. Draw the rectangles and other shapes on the canvas (keep their color white)\n",
    "3. Convert the image into grayscale using the conversion formula\n",
    "4. Count all the non-white pixels\n",
    "5. Result = step 4\n",
    "\n",
    "### To learn more about image processing\n",
    "Check out these [tutorials](https://github.com/ZainUlMustafa/Python-3-Tutorial-Using-Jupyter-Notebook/) that I co-authored."
   ]
  },
  {
   "cell_type": "code",
   "execution_count": 1,
   "metadata": {},
   "outputs": [
    {
     "name": "stdout",
     "output_type": "stream",
     "text": [
      "Import successful!\n"
     ]
    }
   ],
   "source": [
    "import cv2\n",
    "import numpy as np\n",
    "print(\"Import successful!\")"
   ]
  },
  {
   "cell_type": "code",
   "execution_count": 2,
   "metadata": {},
   "outputs": [],
   "source": [
    "rects = [\n",
    "    [0, 1, 3, 3],\n",
    "    [2, 2, 6, 4],\n",
    "    [1, 0, 3, 5]\n",
    "]\n",
    "\n",
    "allXCoors, allYCoors = [], []\n",
    "for eachRect in rects:\n",
    "    for i in range(0, 4, 2):\n",
    "        allXCoors.append(eachRect[i])\n",
    "    #endfor\n",
    "\n",
    "    for i in range(1, 4, 2):\n",
    "        allYCoors.append(eachRect[i])\n",
    "    #endfor\n",
    "#endfor"
   ]
  },
  {
   "cell_type": "code",
   "execution_count": 3,
   "metadata": {},
   "outputs": [
    {
     "name": "stdout",
     "output_type": "stream",
     "text": [
      "0 6\n",
      "0 5\n"
     ]
    }
   ],
   "source": [
    "lowestXCoor, highestXCoor = 0, 0\n",
    "for eachX in allXCoors:\n",
    "    if eachX <= lowestXCoor:\n",
    "        lowestXCoor = eachX\n",
    "    #endif\n",
    "\n",
    "    if eachX >= highestXCoor:\n",
    "        highestXCoor = eachX\n",
    "    #endif\n",
    "#endfor\n",
    "\n",
    "lowestYCoor, highestYCoor = 0, 0\n",
    "for eachY in allYCoors:\n",
    "    if eachY <= lowestYCoor:\n",
    "        lowestYCoor = eachY\n",
    "    #endif\n",
    "\n",
    "    if eachY >= highestYCoor:\n",
    "        highestYCoor = eachY\n",
    "    #endif\n",
    "#endfor\n",
    "\n",
    "print(lowestXCoor, highestXCoor)\n",
    "print(lowestYCoor, highestYCoor)\n"
   ]
  },
  {
   "cell_type": "code",
   "execution_count": 4,
   "metadata": {},
   "outputs": [
    {
     "name": "stdout",
     "output_type": "stream",
     "text": [
      "Width: 6, Height: 5\n"
     ]
    }
   ],
   "source": [
    "canvasWidth = highestXCoor - lowestXCoor\n",
    "canvasHeight = highestYCoor - lowestYCoor\n",
    "print(f\"Width: {canvasWidth}, Height: {canvasHeight}\")"
   ]
  },
  {
   "cell_type": "code",
   "execution_count": 5,
   "metadata": {},
   "outputs": [
    {
     "name": "stdout",
     "output_type": "stream",
     "text": [
      "Plot successful: for visuals only\n"
     ]
    }
   ],
   "source": [
    "import matplotlib.pyplot as plt\n",
    "print(\"Plot successful: for visuals only\")"
   ]
  },
  {
   "cell_type": "code",
   "execution_count": 6,
   "metadata": {},
   "outputs": [
    {
     "data": {
      "text/plain": [
       "<matplotlib.image.AxesImage at 0x7ffa99717ca0>"
      ]
     },
     "execution_count": 6,
     "metadata": {},
     "output_type": "execute_result"
    },
    {
     "data": {
      "image/png": "[encoded data removed]",
      "text/plain": [
       "<Figure size 432x288 with 1 Axes>"
      ]
     },
     "metadata": {
      "needs_background": "light"
     },
     "output_type": "display_data"
    }
   ],
   "source": [
    "scale = 100 #to achieve higher resolution \n",
    "\n",
    "canvas = np.zeros((canvasHeight*scale,canvasWidth*scale,3), np.uint8)\n",
    "canvas = cv2.cvtColor(canvas, cv2.COLOR_RGB2BGR)\n",
    "plt.imshow(canvas)"
   ]
  },
  {
   "cell_type": "code",
   "execution_count": 7,
   "metadata": {},
   "outputs": [
    {
     "data": {
      "text/plain": [
       "<matplotlib.image.AxesImage at 0x7ffa996197c0>"
      ]
     },
     "execution_count": 7,
     "metadata": {},
     "output_type": "execute_result"
    },
    {
     "data": {
      "image/png": "[encoded data removed]",
      "text/plain": [
       "<Figure size 432x288 with 1 Axes>"
      ]
     },
     "metadata": {
      "needs_background": "light"
     },
     "output_type": "display_data"
    }
   ],
   "source": [
    "for eachRect in rects:\n",
    "    img = cv2.rectangle(canvas, (eachRect[0]*scale,eachRect[1]*scale), (eachRect[2]*scale, eachRect[3]*scale), (255,255,255), -1)\n",
    "#endfor\n",
    "img = cv2.cvtColor(img, cv2.COLOR_BGR2RGB)\n",
    "plt.imshow(img)"
   ]
  },
  {
   "cell_type": "markdown",
   "metadata": {},
   "source": [
    "## Step 3 and 4\n",
    "\n",
    "### Using OpenCV"
   ]
  },
  {
   "cell_type": "code",
   "execution_count": 8,
   "metadata": {},
   "outputs": [
    {
     "name": "stdout",
     "output_type": "stream",
     "text": [
      "18.0699\n"
     ]
    }
   ],
   "source": [
    "dst = cv2.inRange(img, np.array([255,255,255], dtype=np.uint8), np.array([255,255,255], dtype=np.uint8))\n",
    "pixels = cv2.countNonZero(dst)\n",
    "\n",
    "print(pixels/scale**2)"
   ]
  },
  {
   "cell_type": "markdown",
   "metadata": {},
   "source": [
    "### Using conversion factor and summation"
   ]
  },
  {
   "cell_type": "code",
   "execution_count": 9,
   "metadata": {},
   "outputs": [
    {
     "name": "stdout",
     "output_type": "stream",
     "text": [
      "18.0699\n",
      "18.0699\n"
     ]
    }
   ],
   "source": [
    "r, g, b = img[:,:,0], img[:,:,1], img[:,:,2]\n",
    "\n",
    "# See: https://en.wikipedia.org/wiki/Grayscale#Converting_color_to_grayscale\n",
    "gray = 0.2989 * r + 0.5870 * g + 0.1140 * b\n",
    "\n",
    "# faster summing\n",
    "pixels = np.sum(gray != 0)\n",
    "print(pixels/scale**2)\n",
    "\n",
    "# slower summing\n",
    "pixels = 0\n",
    "for row in gray:\n",
    "    for col in row:\n",
    "        if col != 0:\n",
    "            pixels = pixels + 1\n",
    "        #endif\n",
    "    #endfor\n",
    "#endfor\n",
    "        \n",
    "\n",
    "print(pixels/scale**2)"
   ]
  },
  {
   "cell_type": "code",
   "execution_count": null,
   "metadata": {},
   "outputs": [],
   "source": []
  },
  {
   "cell_type": "code",
   "execution_count": null,
   "metadata": {},
   "outputs": [],
   "source": []
  }
 ],
 "metadata": {
  "interpreter": {
   "hash": "a840e9f54a839827551abd0d7751ec1db5d9984676e971e793308558c1f5aade"
  },
  "kernelspec": {
   "display_name": "Python 3.8.10 64-bit ('dvenv')",
   "name": "python3"
  },
  "language_info": {
   "codemirror_mode": {
    "name": "ipython",
    "version": 3
   },
   "file_extension": ".py",
   "mimetype": "text/x-python",
   "name": "python",
   "nbconvert_exporter": "python",
   "pygments_lexer": "ipython3",
   "version": "3.8.10"
  }
 },
 "nbformat": 4,
 "nbformat_minor": 2
}